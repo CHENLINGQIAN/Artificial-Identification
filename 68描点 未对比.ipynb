{
 "cells": [
  {
   "cell_type": "code",
   "execution_count": 1,
   "metadata": {},
   "outputs": [
    {
     "name": "stdout",
     "output_type": "stream",
     "text": [
      "人脸数： 1\n",
      "第 1 个人脸d的坐标： left: 27 right: 348 top: 134 bottom: 455\n",
      "人脸面积为： 103041\n"
     ]
    }
   ],
   "source": [
    "import cv2\n",
    "import dlib#dlib库的简介:一个机器学习的开源库,包含了机器学习的很多算法,使用起来很方便,直接包含头文件即可,并且不依赖于其他库(自带图像编解码库源码)。\n",
    "from skimage import io\n",
    " \n",
    "# 使用特征提取器get_frontal_face_detector\n",
    "detector = dlib.get_frontal_face_detector()\n",
    "#返回默认的人脸检测器类型：函数\n",
    "# dlib的68点模型，使用作者训练好的特征预测器\n",
    "predictor = dlib.shape_predictor(r\"C:/Users/13750/Desktop/shape_predictor_68_face_landmarks.dat\")\n",
    "# 图片所在路径\n",
    "img = io.imread(r\"C:/Users/13750/Desktop/OFD_full_DB_labelled/OFD_full_DB_labelled/0006/光照/I_0006_04.jpg\")\n",
    "# 生成dlib的图像窗口\n",
    "win = dlib.image_window()\n",
    "win.clear_overlay()\n",
    "win.set_image(img)\n",
    " \n",
    "# 特征提取器的实例化\n",
    "dets = detector(img, 1)\n",
    "print(\"人脸数：\", len(dets))\n",
    " \n",
    "for k, d in enumerate(dets):\n",
    "    print(\"第\", k+1, \"个人脸d的坐标：\",\n",
    "       \"left:\", d.left(),\n",
    "       \"right:\", d.right(),\n",
    "       \"top:\", d.top(),\n",
    "       \"bottom:\", d.bottom())\n",
    " \n",
    "    width = d.right() - d.left()\n",
    "    heigth = d.bottom() - d.top()\n",
    " \n",
    "    print('人脸面积为：',(width*heigth))\n"
   ]
  },
  {
   "cell_type": "code",
   "execution_count": 2,
   "metadata": {},
   "outputs": [
    {
     "data": {
      "text/plain": [
       "-1"
      ]
     },
     "execution_count": 2,
     "metadata": {},
     "output_type": "execute_result"
    }
   ],
   "source": [
    "# 利用预测器预测\n",
    "shape = predictor(img, d)\n",
    "for i in range(68):\n",
    "    cv2.circle(img, (shape.part(i).x, shape.part(i).y), 4, (0, 255, 0), -1, 8)\n",
    "    cv2.putText(img, str(i), (shape.part(i).x, shape.part(i).y), cv2.FONT_HERSHEY_SIMPLEX, 0.5, (255, 255, 255))\n",
    "    #c 显示一下处理的图片，然后销毁窗口\n",
    "cv2.imshow('face', img)\n",
    "cv2.waitKey(1)\n",
    "#格式：\n",
    "#waitKey(x);\n",
    "#第一个参数： 等待x ms，如果在此期间有按键按下，则立即结束并返回按下按键的\n",
    "#ASCII码，否则返回-1\n",
    "#如果x=0，那么无限等待下去，直到有按键按下\n",
    "#另外，在imshow之后如果没有waitKey语句则不会正常显示图像。"
   ]
  },
  {
   "cell_type": "code",
   "execution_count": 4,
   "metadata": {},
   "outputs": [
    {
     "name": "stdout",
     "output_type": "stream",
     "text": [
      "人脸数： 10\n",
      "第 1 个人脸d的坐标： left: 381 right: 417 top: 698 bottom: 734\n",
      "人脸面积为： 1296\n",
      "第 2 个人脸d的坐标： left: 761 right: 797 top: 770 bottom: 806\n",
      "人脸面积为： 1296\n",
      "第 3 个人脸d的坐标： left: 485 right: 521 top: 734 bottom: 770\n",
      "人脸面积为： 1296\n",
      "第 4 个人脸d的坐标： left: 489 right: 525 top: 662 bottom: 698\n",
      "人脸面积为： 1296\n",
      "第 5 个人脸d的坐标： left: 653 right: 689 top: 702 bottom: 738\n",
      "人脸面积为： 1296\n",
      "第 6 个人脸d的坐标： left: 289 right: 325 top: 658 bottom: 694\n",
      "人脸面积为： 1296\n",
      "第 7 个人脸d的坐标： left: 321 right: 357 top: 614 bottom: 650\n",
      "人脸面积为： 1296\n",
      "第 8 个人脸d的坐标： left: 649 right: 685 top: 654 bottom: 690\n",
      "人脸面积为： 1296\n",
      "第 9 个人脸d的坐标： left: 565 right: 601 top: 754 bottom: 790\n",
      "人脸面积为： 1296\n",
      "第 10 个人脸d的坐标： left: 901 right: 937 top: 710 bottom: 746\n",
      "人脸面积为： 1296\n"
     ]
    }
   ],
   "source": [
    "import cv2\n",
    "import dlib#dlib库的简介:一个机器学习的开源库,包含了机器学习的很多算法,使用起来很方便,直接包含头文件即可,并且不依赖于其他库(自带图像编解码库源码)。\n",
    "from skimage import io\n",
    " \n",
    "# 使用特征提取器get_frontal_face_detector\n",
    "detector = dlib.get_frontal_face_detector()\n",
    "#返回默认的人脸检测器类型：函数\n",
    "# dlib的68点模型，使用作者训练好的特征预测器\n",
    "predictor = dlib.shape_predictor(r\"C:/Users/13750/Desktop/shape_predictor_68_face_landmarks.dat\")\n",
    "# 图片所在路径\n",
    "img = io.imread(r\"C:/Users/13750/Desktop/p.jpg\")\n",
    "# 生成dlib的图像窗口\n",
    "win = dlib.image_window()\n",
    "win.clear_overlay()\n",
    "win.set_image(img)\n",
    " \n",
    "# 特征提取器的实例化\n",
    "dets = detector(img, 1)\n",
    "print(\"人脸数：\", len(dets))\n",
    " \n",
    "for k, d in enumerate(dets):\n",
    "    print(\"第\", k+1, \"个人脸d的坐标：\",\n",
    "       \"left:\", d.left(),\n",
    "       \"right:\", d.right(),\n",
    "       \"top:\", d.top(),\n",
    "       \"bottom:\", d.bottom())\n",
    " \n",
    "    width = d.right() - d.left()\n",
    "    heigth = d.bottom() - d.top()\n",
    " \n",
    "    print('人脸面积为：',(width*heigth))"
   ]
  },
  {
   "cell_type": "code",
   "execution_count": 5,
   "metadata": {},
   "outputs": [
    {
     "data": {
      "text/plain": [
       "-1"
      ]
     },
     "execution_count": 5,
     "metadata": {},
     "output_type": "execute_result"
    }
   ],
   "source": [
    "# 利用预测器预测\n",
    "shape = predictor(img, d)\n",
    "for i in range(68):\n",
    "    cv2.circle(img, (shape.part(i).x, shape.part(i).y), 4, (0, 255, 0), -1, 8)#画圆\n",
    "    cv2.putText(img, str(i), (shape.part(i).x, shape.part(i).y), cv2.FONT_HERSHEY_SIMPLEX, 0.5, (255, 255, 255))#cv2.putText():写入字符\n",
    "    #c 显示一下处理的图片，然后销毁窗口\n",
    "cv2.imshow('face', img)\n",
    "cv2.waitKey(1)\n",
    "#格式：\n",
    "#waitKey(x);\n",
    "#第一个参数： 等待x ms，如果在此期间有按键按下，则立即结束并返回按下按键的\n",
    "#ASCII码，否则返回-1\n",
    "#如果x=0，那么无限等待下去，直到有按键按下\n",
    "#另外，在imshow之后如果没有waitKey语句则不会正常显示图像。"
   ]
  }
 ],
 "metadata": {
  "kernelspec": {
   "display_name": "Python 3",
   "language": "python",
   "name": "python3"
  },
  "language_info": {
   "codemirror_mode": {
    "name": "ipython",
    "version": 3
   },
   "file_extension": ".py",
   "mimetype": "text/x-python",
   "name": "python",
   "nbconvert_exporter": "python",
   "pygments_lexer": "ipython3",
   "version": "3.6.5"
  }
 },
 "nbformat": 4,
 "nbformat_minor": 2
}
